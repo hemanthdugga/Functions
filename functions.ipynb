{
 "cells": [
  {
   "cell_type": "code",
   "execution_count": 1,
   "id": "85852f62",
   "metadata": {},
   "outputs": [
    {
     "name": "stdout",
     "output_type": "stream",
     "text": [
      "hi\n"
     ]
    }
   ],
   "source": [
    "#user-defined funcction:\n",
    "def f1():              #stage1:defining the function\n",
    "    print(\"hi\")\n",
    "f1()                   #stage2:calling a function."
   ]
  },
  {
   "cell_type": "code",
   "execution_count": 8,
   "id": "5815c740",
   "metadata": {},
   "outputs": [
    {
     "name": "stdout",
     "output_type": "stream",
     "text": [
      "022\n",
      "021\n",
      "2221\n"
     ]
    }
   ],
   "source": [
    "def f2():\n",
    "    x=input(int())\n",
    "    y=input(int())\n",
    "    print(x+y)\n",
    "f2()    "
   ]
  },
  {
   "cell_type": "code",
   "execution_count": 12,
   "id": "9c77a3a5",
   "metadata": {},
   "outputs": [],
   "source": [
    "def sum1():\n",
    "    num1=int(input())\n",
    "    num2=int(input())\n",
    "    print(num1+num2)"
   ]
  },
  {
   "cell_type": "code",
   "execution_count": 13,
   "id": "b413ee92",
   "metadata": {},
   "outputs": [
    {
     "name": "stdout",
     "output_type": "stream",
     "text": [
      "12\n",
      "22\n",
      "34\n"
     ]
    }
   ],
   "source": [
    "sum1()"
   ]
  },
  {
   "cell_type": "code",
   "execution_count": 14,
   "id": "c0c7b95c",
   "metadata": {},
   "outputs": [
    {
     "name": "stdout",
     "output_type": "stream",
     "text": [
      "22\n",
      "22\n",
      "44\n"
     ]
    }
   ],
   "source": [
    "sum1()"
   ]
  },
  {
   "cell_type": "code",
   "execution_count": 16,
   "id": "d096103a",
   "metadata": {},
   "outputs": [],
   "source": [
    "#parameters and arguments:\n",
    "def sum1(x,y):   #parameter\n",
    "    print(x+y)\n"
   ]
  },
  {
   "cell_type": "code",
   "execution_count": 20,
   "id": "107282be",
   "metadata": {},
   "outputs": [
    {
     "name": "stdout",
     "output_type": "stream",
     "text": [
      "3\n"
     ]
    }
   ],
   "source": [
    "sum1(1,2)     #argument\n"
   ]
  },
  {
   "cell_type": "code",
   "execution_count": 19,
   "id": "a2ccd872",
   "metadata": {},
   "outputs": [
    {
     "name": "stdout",
     "output_type": "stream",
     "text": [
      "23\n"
     ]
    }
   ],
   "source": [
    "sum1(12,11)"
   ]
  },
  {
   "cell_type": "code",
   "execution_count": 23,
   "id": "7e603dd8",
   "metadata": {},
   "outputs": [],
   "source": [
    "def sum2(x1,x2,x3,x4,x5):   #parameter\n",
    "    print(x1+x2+x3+x4+x5)"
   ]
  },
  {
   "cell_type": "code",
   "execution_count": 24,
   "id": "dfbdb13b",
   "metadata": {},
   "outputs": [
    {
     "name": "stdout",
     "output_type": "stream",
     "text": [
      "165\n"
     ]
    }
   ],
   "source": [
    "sum2(11,22,33,44,55)    #argument"
   ]
  },
  {
   "cell_type": "code",
   "execution_count": 25,
   "id": "f2fb7d36",
   "metadata": {},
   "outputs": [],
   "source": [
    "def sum3(x1,x2,x3,x4,x5=10):   # default parameter\n",
    "    print(x1+x2+x3+x4+x5)"
   ]
  },
  {
   "cell_type": "code",
   "execution_count": 27,
   "id": "8722dc5a",
   "metadata": {},
   "outputs": [
    {
     "name": "stdout",
     "output_type": "stream",
     "text": [
      "20\n"
     ]
    }
   ],
   "source": [
    "sum3(1,2,3,4)"
   ]
  },
  {
   "cell_type": "code",
   "execution_count": 30,
   "id": "6e3247b4",
   "metadata": {},
   "outputs": [],
   "source": [
    "def sum4(x=1,y=2,z=3):\n",
    "    print(x+y+z)"
   ]
  },
  {
   "cell_type": "code",
   "execution_count": 29,
   "id": "6c418422",
   "metadata": {},
   "outputs": [
    {
     "name": "stdout",
     "output_type": "stream",
     "text": [
      "6\n"
     ]
    }
   ],
   "source": [
    "sum4()      #default parameter"
   ]
  },
  {
   "cell_type": "code",
   "execution_count": 36,
   "id": "73e3622f",
   "metadata": {},
   "outputs": [],
   "source": [
    "def sum4(x=1,y=2,z=3):\n",
    "    print(x+y+z)"
   ]
  },
  {
   "cell_type": "code",
   "execution_count": 37,
   "id": "d8be7e75",
   "metadata": {},
   "outputs": [
    {
     "name": "stdout",
     "output_type": "stream",
     "text": [
      "7\n"
     ]
    }
   ],
   "source": [
    "sum4(2,2,3)"
   ]
  },
  {
   "cell_type": "code",
   "execution_count": 52,
   "id": "4314adbc",
   "metadata": {},
   "outputs": [],
   "source": [
    "def bio_data(name,age,height):\n",
    "    \"\"\"this function prints your bio_data\"\"\"    #doc string(documentation string)\n",
    "    print(\"My name is {}\".format(name))\n",
    "    print(\"My age is {}\".format(age))\n",
    "    print(\"My height is {}\".format(height))"
   ]
  },
  {
   "cell_type": "code",
   "execution_count": 50,
   "id": "b3a8e53e",
   "metadata": {},
   "outputs": [
    {
     "name": "stdout",
     "output_type": "stream",
     "text": [
      "My name is hemanth\n",
      "My age is 22\n",
      "My height is 186.3\n"
     ]
    }
   ],
   "source": [
    "bio_data(\"hemanth\",22,186.3)   #positional argument:"
   ]
  },
  {
   "cell_type": "code",
   "execution_count": 51,
   "id": "7c355134",
   "metadata": {},
   "outputs": [
    {
     "name": "stdout",
     "output_type": "stream",
     "text": [
      "My name is hemanth\n",
      "My age is 23\n",
      "My height is 186.2\n"
     ]
    }
   ],
   "source": [
    "bio_data(age=23,name=\"hemanth\",height=186.2)     #keyword argument"
   ]
  },
  {
   "cell_type": "code",
   "execution_count": 54,
   "id": "9c87e17c",
   "metadata": {},
   "outputs": [
    {
     "data": {
      "text/plain": [
       "'this function prints your bio_data'"
      ]
     },
     "execution_count": 54,
     "metadata": {},
     "output_type": "execute_result"
    }
   ],
   "source": [
    "bio_data.__doc__"
   ]
  },
  {
   "cell_type": "code",
   "execution_count": 55,
   "id": "c40ab32c",
   "metadata": {},
   "outputs": [
    {
     "data": {
      "text/plain": [
       "\"print(value, ..., sep=' ', end='\\\\n', file=sys.stdout, flush=False)\\n\\nPrints the values to a stream, or to sys.stdout by default.\\nOptional keyword arguments:\\nfile:  a file-like object (stream); defaults to the current sys.stdout.\\nsep:   string inserted between values, default a space.\\nend:   string appended after the last value, default a newline.\\nflush: whether to forcibly flush the stream.\""
      ]
     },
     "execution_count": 55,
     "metadata": {},
     "output_type": "execute_result"
    }
   ],
   "source": [
    "print.__doc__"
   ]
  },
  {
   "cell_type": "code",
   "execution_count": 1,
   "id": "79cf4384",
   "metadata": {},
   "outputs": [],
   "source": [
    "#create a calculator function:\n",
    "def calculator():\n",
    "    oper=\"a\"\n",
    "    while oper!=\"c\":\n",
    "        number=int(input('first number')) \n",
    "        oper=input('type any of +,-,/,*,,type c to exit')\n",
    "        number1=int(input('second number'))\n",
    "        if oper==\"+\":\n",
    "            print('{}+{}={}'.format(number,number1,number+number1))\n",
    "        elif oper==\"-\":\n",
    "            print('{}-{}={}'.format(number,number1,number-number1))\n",
    "        elif oper==\"*\":\n",
    "            print('{}*{}={}'.format(number,number1,number*number1))\n",
    "        elif oper==\"c\":\n",
    "            break\n",
    "        else:\n",
    "            print('oper not found')\n",
    "    \n"
   ]
  },
  {
   "cell_type": "code",
   "execution_count": null,
   "id": "542d98ef",
   "metadata": {},
   "outputs": [
    {
     "name": "stdout",
     "output_type": "stream",
     "text": [
      "first number11\n",
      "type any of +,-,/,*,,type c to exit+\n",
      "second number22\n",
      "11+22=33\n"
     ]
    }
   ],
   "source": [
    "calculator()"
   ]
  },
  {
   "cell_type": "code",
   "execution_count": null,
   "id": "4ed8488a",
   "metadata": {},
   "outputs": [],
   "source": []
  },
  {
   "cell_type": "code",
   "execution_count": null,
   "id": "c3502463",
   "metadata": {},
   "outputs": [],
   "source": []
  }
 ],
 "metadata": {
  "kernelspec": {
   "display_name": "Python 3 (ipykernel)",
   "language": "python",
   "name": "python3"
  },
  "language_info": {
   "codemirror_mode": {
    "name": "ipython",
    "version": 3
   },
   "file_extension": ".py",
   "mimetype": "text/x-python",
   "name": "python",
   "nbconvert_exporter": "python",
   "pygments_lexer": "ipython3",
   "version": "3.9.13"
  }
 },
 "nbformat": 4,
 "nbformat_minor": 5
}
